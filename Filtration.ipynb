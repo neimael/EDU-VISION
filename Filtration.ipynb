{
 "cells": [
  {
   "cell_type": "code",
   "execution_count": 1,
   "metadata": {},
   "outputs": [],
   "source": [
    "from pyspark.sql import SparkSession\n",
    "import cv2\n",
    "import numpy as np\n",
    "import os\n",
    "from hdfs import InsecureClient\n",
    "import io"
   ]
  },
  {
   "cell_type": "code",
   "execution_count": 2,
   "metadata": {},
   "outputs": [],
   "source": [
    "def filtrage_median(image):\n",
    "    # Get the dimensions of the image\n",
    "    height, width, channels = image.shape\n",
    "    \n",
    "    # Create an empty image to store the filtered result\n",
    "    filtered_image = np.zeros((height, width, channels), dtype=np.uint8)\n",
    "    \n",
    "    # Define the kernel size for the median filter\n",
    "    kernel_size = 3  # Adjust this value as needed\n",
    "    \n",
    "    # Calculate the margin of the kernel\n",
    "    margin_m = kernel_size // 2\n",
    "    margin_n = kernel_size // 2\n",
    "    \n",
    "    # Apply the median filter step by step\n",
    "    for i in range(margin_m, height - margin_m):\n",
    "        for j in range(margin_n, width - margin_n):\n",
    "            # Extract the values from the 3x3 region around the current pixel for each channel\n",
    "            region_values = []\n",
    "            for k in range(-margin_m, margin_m + 1):\n",
    "                for l in range(-margin_n, margin_n + 1):\n",
    "                    pixel_values = [image[i + k, j + l, c] for c in range(channels)]\n",
    "                    region_values.append(pixel_values)\n",
    "            \n",
    "            # Calculate the median value for each channel separately\n",
    "            median_values = np.median(region_values, axis=0)\n",
    "            \n",
    "            # Assign the median values to the corresponding pixel in the filtered image\n",
    "            filtered_image[i, j] = median_values.astype(np.uint8)\n",
    "    \n",
    "    return filtered_image"
   ]
  },
  {
   "cell_type": "code",
   "execution_count": 3,
   "metadata": {},
   "outputs": [],
   "source": [
    "# Fonction de filtrage gaussien\n",
    "def apply_gaussian_blur(image,sigma):\n",
    "    return cv2.GaussianBlur(image, (0,0), sigma)"
   ]
  },
  {
   "cell_type": "code",
   "execution_count": 4,
   "metadata": {},
   "outputs": [],
   "source": [
    "# Charger les images une par une et appliquer les filtres\n",
    "local_input_path = \"/home/hadoopuser/mon_projet/images_from_videos\"\n",
    "image_files = os.listdir(local_input_path)\n",
    "sigma = 4\n",
    "\n",
    "for image_file in image_files:\n",
    "    image_path = os.path.join(local_input_path, image_file)\n",
    "    image = cv2.imread(image_path)\n",
    "    \n",
    "    # Appliquer les filtres\n",
    "    median_filtered_image = filtrage_median(image)\n",
    "    blurred_image = apply_gaussian_blur(image,sigma)\n",
    "\n",
    "    # Enregistrer les images traitées localement dans un répertoire temporaire\n",
    "    output_local_path = \"/home/hadoopuser/mon_projet/images_filtrees\"\n",
    "    os.makedirs(output_local_path, exist_ok=True)\n",
    "    \n",
    "    # Enregistrer les images\n",
    "    cv2.imwrite(os.path.join(output_local_path, f\"{image_file}_gauss_filtered_image.jpg\"), blurred_image)\n",
    "    cv2.imwrite(os.path.join(output_local_path, f\"{image_file}_median_filter.jpg\"), median_filtered_image)"
   ]
  },
  {
   "cell_type": "code",
   "execution_count": 5,
   "metadata": {},
   "outputs": [
    {
     "data": {
      "text/plain": [
       "'/project_videos/images_filtrees'"
      ]
     },
     "execution_count": 5,
     "metadata": {},
     "output_type": "execute_result"
    }
   ],
   "source": [
    "local_output_directory = \"/home/hadoopuser/mon_projet/images_filtrees\"\n",
    "hdfs_output_directory = \"/project_videos\"\n",
    "\n",
    "# After extraction, move the files to HDFS\n",
    "client = InsecureClient(\"http://localhost:9870\", user=\"hadoopuser\")\n",
    "\n",
    "# Check if the HDFS directory exists; create it if not\n",
    "if not client.status(hdfs_output_directory, strict=False):\n",
    "    client.makedirs(hdfs_output_directory)\n",
    "\n",
    "# Copy files from local to HDFS\n",
    "client.upload(hdfs_output_directory, local_output_directory, overwrite=True)"
   ]
  },
  {
   "cell_type": "code",
   "execution_count": null,
   "metadata": {},
   "outputs": [],
   "source": []
  }
 ],
 "metadata": {
  "kernelspec": {
   "display_name": "Python 3",
   "language": "python",
   "name": "python3"
  },
  "language_info": {
   "codemirror_mode": {
    "name": "ipython",
    "version": 3
   },
   "file_extension": ".py",
   "mimetype": "text/x-python",
   "name": "python",
   "nbconvert_exporter": "python",
   "pygments_lexer": "ipython3",
   "version": "3.7.3"
  }
 },
 "nbformat": 4,
 "nbformat_minor": 2
}
