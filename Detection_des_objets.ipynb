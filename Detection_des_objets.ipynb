{
 "cells": [
  {
   "cell_type": "code",
   "execution_count": 5,
   "metadata": {},
   "outputs": [],
   "source": [
    "import os\n",
    "import cv2\n",
    "import numpy as np\n",
    "from hdfs import InsecureClient"
   ]
  },
  {
   "cell_type": "code",
   "execution_count": 9,
   "metadata": {},
   "outputs": [],
   "source": [
    "def detection_objets(image):\n",
    "    # Loading classes from the COCO dataset\n",
    "    with open(\"/home/hadoopuser/mon_projet/coco.names\", 'rt') as f:\n",
    "        classes = f.read().rstrip('\\n').split('\\n')\n",
    "\n",
    "    # Loading the YOLO model and pretrained weights\n",
    "    net = cv2.dnn.readNet(\"yolov3.weights\", \"yolov3.cfg\")\n",
    "\n",
    "    # Getting the output layer names\n",
    "    layer_names = net.getLayerNames()\n",
    "    output_layers = [layer_names[i - 1] for i in net.getUnconnectedOutLayers()]\n",
    "\n",
    "    height, width, channels = image.shape\n",
    "\n",
    "    # Preprocessing the image for input to the neural network\n",
    "    blob = cv2.dnn.blobFromImage(image, 0.00392, (416, 416), (0, 0, 0), True, crop=False)\n",
    "\n",
    "    # Passing the preprocessed image through the neural network\n",
    "    net.setInput(blob)\n",
    "    outs = net.forward(output_layers)\n",
    "\n",
    "    # Processing the detections and drawing bounding boxes on the image\n",
    "    for out in outs:\n",
    "        for detection in out:\n",
    "            scores = detection[5:]\n",
    "            class_id = np.argmax(scores)\n",
    "            confidence = scores[class_id]\n",
    "\n",
    "            if confidence > 0.5:  # Confidence threshold\n",
    "                # Calculating bounding box coordinates\n",
    "                center_x = int(detection[0] * width)\n",
    "                center_y = int(detection[1] * height)\n",
    "                w = int(detection[2] * width)\n",
    "                h = int(detection[3] * height)\n",
    "\n",
    "                # Coordinates of top-left corner\n",
    "                x = int(center_x - w / 2)\n",
    "                y = int(center_y - h / 2)\n",
    "\n",
    "                # Drawing bounding box and class label on the image\n",
    "                cv2.rectangle(image, (x, y), (x + w, y + h), (255, 0, 0), 2)\n",
    "                cv2.putText(image, classes[class_id], (x, y - 5), cv2.FONT_HERSHEY_SIMPLEX, 0.5, (0, 255, 0), 2)\n",
    "\n",
    "    # Returning the image with detections\n",
    "    return image"
   ]
  },
  {
   "cell_type": "code",
   "execution_count": 10,
   "metadata": {},
   "outputs": [],
   "source": [
    "# Loop over the images and apply object detection\n",
    "input_path = \"/home/hadoopuser/mon_projet/images_from_videos\"\n",
    "output_path = \"/home/hadoopuser/mon_projet/Detections_Objets\"\n",
    "\n",
    "# Create the output directory if it doesn't exist\n",
    "os.makedirs(output_path, exist_ok=True)\n",
    "\n",
    "for image_file in os.listdir(input_path):\n",
    "    image_path = os.path.join(input_path, image_file)\n",
    "    image = cv2.imread(image_path)\n",
    "\n",
    "    # Apply object detection\n",
    "    detected_objects = detection_objets(image)\n",
    "\n",
    "    # Save the processed image\n",
    "    output_image_path = os.path.join(output_path, f\"{image_file}_detected_objects.jpg\")\n",
    "    cv2.imwrite(output_image_path, detected_objects)"
   ]
  },
  {
   "cell_type": "code",
   "execution_count": 11,
   "metadata": {},
   "outputs": [
    {
     "data": {
      "text/plain": [
       "'/project_videos/Detections_Objets'"
      ]
     },
     "execution_count": 11,
     "metadata": {},
     "output_type": "execute_result"
    }
   ],
   "source": [
    "local_output_directory = \"/home/hadoopuser/mon_projet/Detections_Objets\"\n",
    "hdfs_output_directory = \"/project_videos\"\n",
    "\n",
    "# After extraction, move the files to HDFS\n",
    "client = InsecureClient(\"http://localhost:9870\", user=\"hadoopuser\")\n",
    "\n",
    "# Check if the HDFS directory exists; create it if not\n",
    "if not client.status(hdfs_output_directory, strict=False):\n",
    "    client.makedirs(hdfs_output_directory)\n",
    "\n",
    "# Copy files from local to HDFS\n",
    "client.upload(hdfs_output_directory, local_output_directory, overwrite=True)"
   ]
  },
  {
   "cell_type": "code",
   "execution_count": null,
   "metadata": {},
   "outputs": [],
   "source": []
  }
 ],
 "metadata": {
  "kernelspec": {
   "display_name": "Python 3 (ipykernel)",
   "language": "python",
   "name": "python3"
  },
  "language_info": {
   "codemirror_mode": {
    "name": "ipython",
    "version": 3
   },
   "file_extension": ".py",
   "mimetype": "text/x-python",
   "name": "python",
   "nbconvert_exporter": "python",
   "pygments_lexer": "ipython3",
   "version": "3.10.12"
  }
 },
 "nbformat": 4,
 "nbformat_minor": 4
}
