{
 "cells": [
  {
   "cell_type": "code",
   "execution_count": 1,
   "id": "8beef5ac-c005-4aa2-8284-32cef8e95ec7",
   "metadata": {},
   "outputs": [],
   "source": [
    "import os\n",
    "import cv2\n",
    "from skimage.segmentation import slic\n",
    "from skimage.color import label2rgb\n",
    "import matplotlib.pyplot as plt\n",
    "from hdfs import InsecureClient"
   ]
  },
  {
   "cell_type": "code",
   "execution_count": 2,
   "id": "c9f7b7d7-e5ba-46eb-9de1-ea985c92fc9f",
   "metadata": {},
   "outputs": [],
   "source": [
    "# Input and output paths\n",
    "input_path = \"/home/hadoopuser/mon_projet/images_from_videos\"\n",
    "output_path = \"/home/hadoopuser/mon_projet/segments\"\n",
    "\n",
    "# Create the output directory if it doesn't exist\n",
    "os.makedirs(output_path, exist_ok=True)\n",
    "\n",
    "# Loop over the images and apply segmentation\n",
    "for image_file in os.listdir(input_path):\n",
    "            \n",
    "    image_path = os.path.join(input_path, image_file)\n",
    "    image = cv2.imread(image_path)\n",
    "\n",
    "    # Convert the image to RGB\n",
    "    image_rgb = cv2.cvtColor(image, cv2.COLOR_BGR2RGB)\n",
    "\n",
    "    # Apply SLIC segmentation\n",
    "    segments = slic(image_rgb, n_segments=50, compactness=10)\n",
    "\n",
    "    # Convert segments to RGB for visualization\n",
    "    segments_rgb = label2rgb(segments, image_rgb, kind='avg')\n",
    "\n",
    "    # Save the segmented image\n",
    "    output_image_path = os.path.join(output_path, f\"{image_file}_segments.jpg\")\n",
    "    plt.imsave(output_image_path, segments_rgb)"
   ]
  },
  {
   "cell_type": "code",
   "execution_count": 3,
   "id": "c4a05b23-4fba-48ec-bf18-a307d5998413",
   "metadata": {},
   "outputs": [
    {
     "data": {
      "text/plain": [
       "'/project_videos/segments'"
      ]
     },
     "execution_count": 3,
     "metadata": {},
     "output_type": "execute_result"
    }
   ],
   "source": [
    "local_output_directory = \"/home/hadoopuser/mon_projet/segments\"\n",
    "hdfs_output_directory = \"/project_videos\"\n",
    "\n",
    "# After extraction, move the files to HDFS\n",
    "client = InsecureClient(\"http://localhost:9870\", user=\"hadoopuser\")\n",
    "\n",
    "# Check if the HDFS directory exists; create it if not\n",
    "if not client.status(hdfs_output_directory, strict=False):\n",
    "    client.makedirs(hdfs_output_directory)\n",
    "\n",
    "# Copy files from local to HDFS\n",
    "client.upload(hdfs_output_directory, local_output_directory, overwrite=True)"
   ]
  },
  {
   "cell_type": "code",
   "execution_count": null,
   "id": "39f91081-831a-4983-a74d-54815baad8ae",
   "metadata": {},
   "outputs": [],
   "source": []
  }
 ],
 "metadata": {
  "kernelspec": {
   "display_name": "Python 3 (ipykernel)",
   "language": "python",
   "name": "python3"
  },
  "language_info": {
   "codemirror_mode": {
    "name": "ipython",
    "version": 3
   },
   "file_extension": ".py",
   "mimetype": "text/x-python",
   "name": "python",
   "nbconvert_exporter": "python",
   "pygments_lexer": "ipython3",
   "version": "3.10.12"
  }
 },
 "nbformat": 4,
 "nbformat_minor": 5
}
