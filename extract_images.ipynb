{
 "cells": [
  {
   "cell_type": "code",
   "execution_count": 12,
   "metadata": {},
   "outputs": [],
   "source": [
    "from pyspark.sql import SparkSession\n",
    "import cv2\n",
    "import numpy as np\n",
    "import os\n",
    "from hdfs import InsecureClient\n",
    "import io"
   ]
  },
  {
   "cell_type": "code",
   "execution_count": 11,
   "metadata": {},
   "outputs": [],
   "source": [
    "def extract_images_from_video(video_path, local_output_directory, num_frames=6):\n",
    "    try:\n",
    "        # Open the video capture\n",
    "        cap = cv2.VideoCapture(video_path)\n",
    "\n",
    "        # Check if the video capture is successful\n",
    "        if not cap.isOpened():\n",
    "            print(f\"Error opening video: {video_path}\")\n",
    "            return\n",
    "\n",
    "        # Get total number of frames in the video\n",
    "        total_frames = int(cap.get(cv2.CAP_PROP_FRAME_COUNT))\n",
    "\n",
    "        # Calculate the skip interval to get the desired number of frames\n",
    "        skip_interval = max(total_frames // num_frames, 1)\n",
    "\n",
    "        # Create the local output directory if it doesn't exist\n",
    "        os.makedirs(local_output_directory, exist_ok=True)\n",
    "\n",
    "        # Extract frames from the video\n",
    "        for i in range(0, total_frames, skip_interval):\n",
    "            cap.set(cv2.CAP_PROP_POS_FRAMES, i)\n",
    "            ret, frame = cap.read()\n",
    "            if ret:\n",
    "                # Save the frame as a local image\n",
    "                frame_path = os.path.join(local_output_directory, f\"frame_{i}.png\")\n",
    "                cv2.imwrite(frame_path, frame)\n",
    "\n",
    "        # Release the video capture\n",
    "        cap.release()\n",
    "\n",
    "    except Exception as e:\n",
    "        print(f\"Error processing video: {video_path}\")\n",
    "        print(e)\n",
    "\n",
    "local_output_directory = \"/home/hadoopuser/mon_projet/images_from_videos\"\n",
    "video_directory = \"/home/hadoopuser/mon_projet/videos\"\n",
    "num_frames_to_extract = 15\n",
    "\n",
    "# List all video files in the video directory\n",
    "video_files = os.listdir(video_directory)\n",
    "\n",
    "# Iterate through each video file and extract images\n",
    "for video_file in video_files:\n",
    "    video_path = os.path.join(video_directory, video_file)\n",
    "    extract_images_from_video(video_path, local_output_directory, num_frames_to_extract)\n",
    "\n"
   ]
  },
  {
   "cell_type": "code",
   "execution_count": 18,
   "metadata": {},
   "outputs": [
    {
     "data": {
      "text/plain": [
       "'/project_videos/images_from_videos'"
      ]
     },
     "execution_count": 18,
     "metadata": {},
     "output_type": "execute_result"
    }
   ],
   "source": [
    "local_output_directory = \"/home/hadoopuser/mon_projet/images_from_videos\"\n",
    "hdfs_output_directory = \"/project_videos\"\n",
    "\n",
    "# After extraction, move the files to HDFS\n",
    "client = InsecureClient(\"http://localhost:9870\", user=\"hadoopuser\")\n",
    "\n",
    "# Check if the HDFS directory exists; create it if not\n",
    "if not client.status(hdfs_output_directory, strict=False):\n",
    "    client.makedirs(hdfs_output_directory)\n",
    "\n",
    "# Copy files from local to HDFS\n",
    "client.upload(hdfs_output_directory, local_output_directory, overwrite=True)"
   ]
  },
  {
   "cell_type": "code",
   "execution_count": null,
   "metadata": {},
   "outputs": [],
   "source": []
  }
 ],
 "metadata": {
  "kernelspec": {
   "display_name": "Python 3",
   "language": "python",
   "name": "python3"
  },
  "language_info": {
   "codemirror_mode": {
    "name": "ipython",
    "version": 3
   },
   "file_extension": ".py",
   "mimetype": "text/x-python",
   "name": "python",
   "nbconvert_exporter": "python",
   "pygments_lexer": "ipython3",
   "version": "3.7.3"
  }
 },
 "nbformat": 4,
 "nbformat_minor": 2
}
