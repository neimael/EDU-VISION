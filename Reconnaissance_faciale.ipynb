{
 "cells": [
  {
   "cell_type": "code",
   "execution_count": 1,
   "metadata": {},
   "outputs": [],
   "source": [
    "from pyspark.sql import SparkSession\n",
    "import cv2\n",
    "import numpy as np\n",
    "import os\n",
    "from hdfs import InsecureClient\n",
    "import io"
   ]
  },
  {
   "cell_type": "code",
   "execution_count": 2,
   "metadata": {},
   "outputs": [],
   "source": [
    "def detect_faces(image):\n",
    "    # Convertir l'image en niveaux de gris\n",
    "    gray = cv2.cvtColor(image, cv2.COLOR_BGR2GRAY)\n",
    "    \n",
    "    # Charger le classifieur de détection de visages pré-entraîné\n",
    "    face_cascade = cv2.CascadeClassifier(cv2.data.haarcascades + 'haarcascade_frontalface_default.xml')\n",
    "    \n",
    "    # Détecter les visages dans l'image\n",
    "    faces = face_cascade.detectMultiScale(gray, scaleFactor=1.1, minNeighbors=5, minSize=(30, 30))\n",
    "    \n",
    "    # Dessiner des rectangles autour des visages détectés\n",
    "    for (x, y, w, h) in faces:\n",
    "        cv2.rectangle(image, (x, y), (x+w, y+h), (255, 0, 0), 2)\n",
    "    \n",
    "    return image"
   ]
  },
  {
   "cell_type": "code",
   "execution_count": 3,
   "metadata": {},
   "outputs": [],
   "source": [
    "# Charger les images une par une et appliquer les filtres\n",
    "local_input_path = \"/home/hadoopuser/mon_projet/images_from_videos\"\n",
    "image_files = os.listdir(local_input_path)\n",
    "\n",
    "for image_file in image_files:\n",
    "    image_path = os.path.join(local_input_path, image_file)\n",
    "    image = cv2.imread(image_path)\n",
    "    \n",
    "    # Appliquer les filtres\n",
    "    face_detected = detect_faces(image)\n",
    "\n",
    "    # Enregistrer les images traitées localement dans un répertoire temporaire\n",
    "    output_local_path = \"/home/hadoopuser/mon_projet/faces_detected\"\n",
    "    os.makedirs(output_local_path, exist_ok=True)\n",
    "    \n",
    "    # Enregistrer les images\n",
    "    cv2.imwrite(os.path.join(output_local_path, f\"{image_file}_face_detected.jpg\"), face_detected)"
   ]
  },
  {
   "cell_type": "code",
   "execution_count": 4,
   "metadata": {},
   "outputs": [
    {
     "data": {
      "text/plain": [
       "'/project_videos/faces_detected'"
      ]
     },
     "execution_count": 4,
     "metadata": {},
     "output_type": "execute_result"
    }
   ],
   "source": [
    "local_output_directory = \"/home/hadoopuser/mon_projet/faces_detected\"\n",
    "hdfs_output_directory = \"/project_videos\"\n",
    "\n",
    "# After extraction, move the files to HDFS\n",
    "client = InsecureClient(\"http://localhost:9870\", user=\"hadoopuser\")\n",
    "\n",
    "# Check if the HDFS directory exists; create it if not\n",
    "if not client.status(hdfs_output_directory, strict=False):\n",
    "    client.makedirs(hdfs_output_directory)\n",
    "\n",
    "# Copy files from local to HDFS\n",
    "client.upload(hdfs_output_directory, local_output_directory, overwrite=True)"
   ]
  },
  {
   "cell_type": "code",
   "execution_count": null,
   "metadata": {},
   "outputs": [],
   "source": []
  }
 ],
 "metadata": {
  "kernelspec": {
   "display_name": "Python 3",
   "language": "python",
   "name": "python3"
  },
  "language_info": {
   "codemirror_mode": {
    "name": "ipython",
    "version": 3
   },
   "file_extension": ".py",
   "mimetype": "text/x-python",
   "name": "python",
   "nbconvert_exporter": "python",
   "pygments_lexer": "ipython3",
   "version": "3.7.3"
  }
 },
 "nbformat": 4,
 "nbformat_minor": 2
}
